{
 "cells": [
  {
   "attachments": {},
   "cell_type": "markdown",
   "metadata": {},
   "source": [
    "## Mosquito Dataset"
   ]
  },
  {
   "cell_type": "code",
   "execution_count": 4,
   "metadata": {},
   "outputs": [
    {
     "data": {
      "text/html": [
       "<div>\n",
       "<style scoped>\n",
       "    .dataframe tbody tr th:only-of-type {\n",
       "        vertical-align: middle;\n",
       "    }\n",
       "\n",
       "    .dataframe tbody tr th {\n",
       "        vertical-align: top;\n",
       "    }\n",
       "\n",
       "    .dataframe thead th {\n",
       "        text-align: right;\n",
       "    }\n",
       "</style>\n",
       "<table border=\"1\" class=\"dataframe\">\n",
       "  <thead>\n",
       "    <tr style=\"text-align: right;\">\n",
       "      <th></th>\n",
       "      <th>village</th>\n",
       "      <th>collection</th>\n",
       "      <th>origin</th>\n",
       "      <th>fed</th>\n",
       "      <th>parity</th>\n",
       "      <th>species.mol</th>\n",
       "      <th>oocyst</th>\n",
       "      <th>spz</th>\n",
       "      <th>infection</th>\n",
       "      <th>infection1</th>\n",
       "      <th>choice</th>\n",
       "      <th>RS_tech</th>\n",
       "      <th>spz_tech</th>\n",
       "    </tr>\n",
       "  </thead>\n",
       "  <tbody>\n",
       "    <tr>\n",
       "      <th>0</th>\n",
       "      <td>kitamilo</td>\n",
       "      <td>spray</td>\n",
       "      <td>CA</td>\n",
       "      <td>yes</td>\n",
       "      <td>NaN</td>\n",
       "      <td>g</td>\n",
       "      <td>3</td>\n",
       "      <td>0</td>\n",
       "      <td>oocyst</td>\n",
       "      <td>oocyst</td>\n",
       "      <td>other</td>\n",
       "      <td>pcr</td>\n",
       "      <td>qpcr</td>\n",
       "    </tr>\n",
       "    <tr>\n",
       "      <th>1</th>\n",
       "      <td>kitamilo</td>\n",
       "      <td>spray</td>\n",
       "      <td>MH</td>\n",
       "      <td>yes</td>\n",
       "      <td>NaN</td>\n",
       "      <td>g</td>\n",
       "      <td>0</td>\n",
       "      <td>1</td>\n",
       "      <td>spz</td>\n",
       "      <td>spz</td>\n",
       "      <td>H</td>\n",
       "      <td>pcr</td>\n",
       "      <td>qpcr</td>\n",
       "    </tr>\n",
       "  </tbody>\n",
       "</table>\n",
       "</div>"
      ],
      "text/plain": [
       "    village collection origin  fed parity species.mol   oocyst  spz infection  \\\n",
       "0  kitamilo      spray     CA  yes    NaN            g       3    0    oocyst   \n",
       "1  kitamilo      spray     MH  yes    NaN            g       0    1       spz   \n",
       "\n",
       "  infection1 choice RS_tech spz_tech  \n",
       "0     oocyst  other     pcr     qpcr  \n",
       "1        spz      H     pcr     qpcr  "
      ]
     },
     "execution_count": 4,
     "metadata": {},
     "output_type": "execute_result"
    }
   ],
   "source": [
    "# Import Dataset \n",
    "# Import the required libraries\n",
    "import pandas as pd\n",
    "import numpy as np\n",
    "import matplotlib.pyplot as plt\n",
    "import seaborn as sns\n",
    "\n",
    "# Load the dataset\n",
    "data = pd.read_excel(\"Mosquito_Dataset.xlsx\")\n",
    "\n",
    "# Inspect the data\n",
    "data.head(10)"
   ]
  }
 ],
 "metadata": {
  "kernelspec": {
   "display_name": "Python 3",
   "language": "python",
   "name": "python3"
  },
  "language_info": {
   "codemirror_mode": {
    "name": "ipython",
    "version": 3
   },
   "file_extension": ".py",
   "mimetype": "text/x-python",
   "name": "python",
   "nbconvert_exporter": "python",
   "pygments_lexer": "ipython3",
   "version": "3.10.2"
  },
  "orig_nbformat": 4
 },
 "nbformat": 4,
 "nbformat_minor": 2
}
