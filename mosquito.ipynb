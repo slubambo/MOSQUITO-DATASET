{
 "cells": [
  {
   "attachments": {},
   "cell_type": "markdown",
   "metadata": {},
   "source": [
    "## Mosquito Dataset"
   ]
  },
  {
   "cell_type": "code",
   "execution_count": 527,
   "metadata": {},
   "outputs": [],
   "source": [
    "# Import Dataset \n",
    "# Import the required libraries\n",
    "import pandas as pd\n",
    "import numpy as np\n",
    "import matplotlib.pyplot as plt\n",
    "import seaborn as sns\n",
    "import missingno as msno\n",
    "\n",
    "# Load the dataset\n",
    "data = pd.read_excel(\"Mosquito_Dataset.xlsx\")\n"
   ]
  },
  {
   "cell_type": "code",
   "execution_count": 528,
   "metadata": {},
   "outputs": [],
   "source": [
    "#Remove duplicate rows\n",
    "data.drop_duplicates(inplace=True)"
   ]
  },
  {
   "cell_type": "code",
   "execution_count": 529,
   "metadata": {},
   "outputs": [
    {
     "data": {
      "text/plain": [
       "(262, 13)"
      ]
     },
     "execution_count": 529,
     "metadata": {},
     "output_type": "execute_result"
    }
   ],
   "source": [
    "# Inspect the data\n",
    "data.shape"
   ]
  },
  {
   "cell_type": "code",
   "execution_count": 530,
   "metadata": {},
   "outputs": [
    {
     "data": {
      "text/html": [
       "<div>\n",
       "<style scoped>\n",
       "    .dataframe tbody tr th:only-of-type {\n",
       "        vertical-align: middle;\n",
       "    }\n",
       "\n",
       "    .dataframe tbody tr th {\n",
       "        vertical-align: top;\n",
       "    }\n",
       "\n",
       "    .dataframe thead th {\n",
       "        text-align: right;\n",
       "    }\n",
       "</style>\n",
       "<table border=\"1\" class=\"dataframe\">\n",
       "  <thead>\n",
       "    <tr style=\"text-align: right;\">\n",
       "      <th></th>\n",
       "      <th>village</th>\n",
       "      <th>collection</th>\n",
       "      <th>origin</th>\n",
       "      <th>fed</th>\n",
       "      <th>parity</th>\n",
       "      <th>species.mol</th>\n",
       "      <th>oocyst</th>\n",
       "      <th>spz</th>\n",
       "      <th>infection</th>\n",
       "      <th>infection1</th>\n",
       "      <th>choice</th>\n",
       "      <th>RS_tech</th>\n",
       "      <th>spz_tech</th>\n",
       "    </tr>\n",
       "  </thead>\n",
       "  <tbody>\n",
       "    <tr>\n",
       "      <th>0</th>\n",
       "      <td>kitamilo</td>\n",
       "      <td>spray</td>\n",
       "      <td>CA</td>\n",
       "      <td>yes</td>\n",
       "      <td>NaN</td>\n",
       "      <td>g</td>\n",
       "      <td>3</td>\n",
       "      <td>0</td>\n",
       "      <td>oocyst</td>\n",
       "      <td>oocyst</td>\n",
       "      <td>other</td>\n",
       "      <td>pcr</td>\n",
       "      <td>qpcr</td>\n",
       "    </tr>\n",
       "    <tr>\n",
       "      <th>1</th>\n",
       "      <td>kitamilo</td>\n",
       "      <td>spray</td>\n",
       "      <td>MH</td>\n",
       "      <td>yes</td>\n",
       "      <td>NaN</td>\n",
       "      <td>g</td>\n",
       "      <td>0</td>\n",
       "      <td>1</td>\n",
       "      <td>spz</td>\n",
       "      <td>spz</td>\n",
       "      <td>H</td>\n",
       "      <td>pcr</td>\n",
       "      <td>qpcr</td>\n",
       "    </tr>\n",
       "    <tr>\n",
       "      <th>3</th>\n",
       "      <td>kitamilo</td>\n",
       "      <td>spray</td>\n",
       "      <td>MI</td>\n",
       "      <td>yes</td>\n",
       "      <td>NaN</td>\n",
       "      <td>g</td>\n",
       "      <td>0</td>\n",
       "      <td>1</td>\n",
       "      <td>spz</td>\n",
       "      <td>spz</td>\n",
       "      <td>H</td>\n",
       "      <td>pcr</td>\n",
       "      <td>qpcr</td>\n",
       "    </tr>\n",
       "    <tr>\n",
       "      <th>4</th>\n",
       "      <td>kitamilo</td>\n",
       "      <td>spray</td>\n",
       "      <td>MI</td>\n",
       "      <td>yes</td>\n",
       "      <td>NaN</td>\n",
       "      <td>c</td>\n",
       "      <td>0</td>\n",
       "      <td>1</td>\n",
       "      <td>spz</td>\n",
       "      <td>spz</td>\n",
       "      <td>H</td>\n",
       "      <td>pcr</td>\n",
       "      <td>qpcr</td>\n",
       "    </tr>\n",
       "    <tr>\n",
       "      <th>5</th>\n",
       "      <td>kitamilo</td>\n",
       "      <td>spray</td>\n",
       "      <td>CA</td>\n",
       "      <td>yes</td>\n",
       "      <td>NaN</td>\n",
       "      <td>g</td>\n",
       "      <td>0</td>\n",
       "      <td>1</td>\n",
       "      <td>spz</td>\n",
       "      <td>spz</td>\n",
       "      <td>H</td>\n",
       "      <td>pcr</td>\n",
       "      <td>qpcr</td>\n",
       "    </tr>\n",
       "    <tr>\n",
       "      <th>6</th>\n",
       "      <td>kitamilo</td>\n",
       "      <td>spray</td>\n",
       "      <td>MH</td>\n",
       "      <td>yes</td>\n",
       "      <td>N</td>\n",
       "      <td>c</td>\n",
       "      <td>0</td>\n",
       "      <td>0</td>\n",
       "      <td>uninfected</td>\n",
       "      <td>uninfected</td>\n",
       "      <td>H</td>\n",
       "      <td>pcr</td>\n",
       "      <td>qpcr</td>\n",
       "    </tr>\n",
       "    <tr>\n",
       "      <th>8</th>\n",
       "      <td>kitamilo</td>\n",
       "      <td>spray</td>\n",
       "      <td>MH</td>\n",
       "      <td>yes</td>\n",
       "      <td>N</td>\n",
       "      <td>g</td>\n",
       "      <td>0</td>\n",
       "      <td>0</td>\n",
       "      <td>uninfected</td>\n",
       "      <td>uninfected</td>\n",
       "      <td>H</td>\n",
       "      <td>pcr</td>\n",
       "      <td>qpcr</td>\n",
       "    </tr>\n",
       "    <tr>\n",
       "      <th>12</th>\n",
       "      <td>kitamilo</td>\n",
       "      <td>spray</td>\n",
       "      <td>CA</td>\n",
       "      <td>yes</td>\n",
       "      <td>N</td>\n",
       "      <td>g</td>\n",
       "      <td>0</td>\n",
       "      <td>0</td>\n",
       "      <td>uninfected</td>\n",
       "      <td>uninfected</td>\n",
       "      <td>H</td>\n",
       "      <td>pcr</td>\n",
       "      <td>qpcr</td>\n",
       "    </tr>\n",
       "    <tr>\n",
       "      <th>13</th>\n",
       "      <td>kitamilo</td>\n",
       "      <td>spray</td>\n",
       "      <td>CA</td>\n",
       "      <td>yes</td>\n",
       "      <td>N</td>\n",
       "      <td>c</td>\n",
       "      <td>0</td>\n",
       "      <td>0</td>\n",
       "      <td>uninfected</td>\n",
       "      <td>uninfected</td>\n",
       "      <td>H</td>\n",
       "      <td>pcr</td>\n",
       "      <td>qpcr</td>\n",
       "    </tr>\n",
       "    <tr>\n",
       "      <th>15</th>\n",
       "      <td>kitamilo</td>\n",
       "      <td>spray</td>\n",
       "      <td>MH</td>\n",
       "      <td>yes</td>\n",
       "      <td>N</td>\n",
       "      <td>a</td>\n",
       "      <td>0</td>\n",
       "      <td>0</td>\n",
       "      <td>uninfected</td>\n",
       "      <td>uninfected</td>\n",
       "      <td>H</td>\n",
       "      <td>pcr</td>\n",
       "      <td>qpcr</td>\n",
       "    </tr>\n",
       "  </tbody>\n",
       "</table>\n",
       "</div>"
      ],
      "text/plain": [
       "     village collection origin  fed parity species.mol   oocyst  spz  \\\n",
       "0   kitamilo      spray     CA  yes    NaN            g       3    0   \n",
       "1   kitamilo      spray     MH  yes    NaN            g       0    1   \n",
       "3   kitamilo      spray     MI  yes    NaN            g       0    1   \n",
       "4   kitamilo      spray     MI  yes    NaN            c       0    1   \n",
       "5   kitamilo      spray     CA  yes    NaN            g       0    1   \n",
       "6   kitamilo      spray     MH  yes      N            c       0    0   \n",
       "8   kitamilo      spray     MH  yes      N            g       0    0   \n",
       "12  kitamilo      spray     CA  yes      N            g       0    0   \n",
       "13  kitamilo      spray     CA  yes      N            c       0    0   \n",
       "15  kitamilo      spray     MH  yes      N            a       0    0   \n",
       "\n",
       "     infection  infection1 choice RS_tech spz_tech  \n",
       "0       oocyst      oocyst  other     pcr     qpcr  \n",
       "1          spz         spz      H     pcr     qpcr  \n",
       "3          spz         spz      H     pcr     qpcr  \n",
       "4          spz         spz      H     pcr     qpcr  \n",
       "5          spz         spz      H     pcr     qpcr  \n",
       "6   uninfected  uninfected      H     pcr     qpcr  \n",
       "8   uninfected  uninfected      H     pcr     qpcr  \n",
       "12  uninfected  uninfected      H     pcr     qpcr  \n",
       "13  uninfected  uninfected      H     pcr     qpcr  \n",
       "15  uninfected  uninfected      H     pcr     qpcr  "
      ]
     },
     "execution_count": 530,
     "metadata": {},
     "output_type": "execute_result"
    }
   ],
   "source": [
    "data.head(10)"
   ]
  },
  {
   "cell_type": "code",
   "execution_count": 531,
   "metadata": {},
   "outputs": [
    {
     "data": {
      "text/html": [
       "<div>\n",
       "<style scoped>\n",
       "    .dataframe tbody tr th:only-of-type {\n",
       "        vertical-align: middle;\n",
       "    }\n",
       "\n",
       "    .dataframe tbody tr th {\n",
       "        vertical-align: top;\n",
       "    }\n",
       "\n",
       "    .dataframe thead th {\n",
       "        text-align: right;\n",
       "    }\n",
       "</style>\n",
       "<table border=\"1\" class=\"dataframe\">\n",
       "  <thead>\n",
       "    <tr style=\"text-align: right;\">\n",
       "      <th></th>\n",
       "      <th>village</th>\n",
       "      <th>collection</th>\n",
       "      <th>origin</th>\n",
       "      <th>fed</th>\n",
       "      <th>parity</th>\n",
       "      <th>species.mol</th>\n",
       "      <th>oocyst</th>\n",
       "      <th>spz</th>\n",
       "      <th>infection</th>\n",
       "      <th>infection1</th>\n",
       "      <th>choice</th>\n",
       "      <th>RS_tech</th>\n",
       "      <th>spz_tech</th>\n",
       "    </tr>\n",
       "  </thead>\n",
       "  <tbody>\n",
       "    <tr>\n",
       "      <th>1885</th>\n",
       "      <td>buvuma</td>\n",
       "      <td>spray</td>\n",
       "      <td>MH</td>\n",
       "      <td>yes</td>\n",
       "      <td>NaN</td>\n",
       "      <td>NaN</td>\n",
       "      <td>1</td>\n",
       "      <td>0</td>\n",
       "      <td>oocyst</td>\n",
       "      <td>oocyst</td>\n",
       "      <td>other</td>\n",
       "      <td>ELISA</td>\n",
       "      <td>ELISA</td>\n",
       "    </tr>\n",
       "    <tr>\n",
       "      <th>1886</th>\n",
       "      <td>buvuma</td>\n",
       "      <td>spray</td>\n",
       "      <td>MH</td>\n",
       "      <td>yes</td>\n",
       "      <td>NaN</td>\n",
       "      <td>NaN</td>\n",
       "      <td>0</td>\n",
       "      <td>1</td>\n",
       "      <td>spz</td>\n",
       "      <td>spz</td>\n",
       "      <td>H</td>\n",
       "      <td>ELISA</td>\n",
       "      <td>ELISA</td>\n",
       "    </tr>\n",
       "    <tr>\n",
       "      <th>1963</th>\n",
       "      <td>buvuma</td>\n",
       "      <td>spray</td>\n",
       "      <td>MH</td>\n",
       "      <td>yes</td>\n",
       "      <td>NaN</td>\n",
       "      <td>NaN</td>\n",
       "      <td>0</td>\n",
       "      <td>1</td>\n",
       "      <td>spz</td>\n",
       "      <td>spz</td>\n",
       "      <td>other</td>\n",
       "      <td>ELISA</td>\n",
       "      <td>ELISA</td>\n",
       "    </tr>\n",
       "    <tr>\n",
       "      <th>1973</th>\n",
       "      <td>buvuma</td>\n",
       "      <td>spray</td>\n",
       "      <td>MH</td>\n",
       "      <td>yes</td>\n",
       "      <td>NaN</td>\n",
       "      <td>NaN</td>\n",
       "      <td>0</td>\n",
       "      <td>0</td>\n",
       "      <td>uninfected</td>\n",
       "      <td>uninfected</td>\n",
       "      <td>H</td>\n",
       "      <td>ELISA</td>\n",
       "      <td>ELISA</td>\n",
       "    </tr>\n",
       "    <tr>\n",
       "      <th>2751</th>\n",
       "      <td>buvuma</td>\n",
       "      <td>spray</td>\n",
       "      <td>MH</td>\n",
       "      <td>yes</td>\n",
       "      <td>NaN</td>\n",
       "      <td>NaN</td>\n",
       "      <td>0</td>\n",
       "      <td>0</td>\n",
       "      <td>uninfected</td>\n",
       "      <td>uninfected</td>\n",
       "      <td>other</td>\n",
       "      <td>ELISA</td>\n",
       "      <td>ELISA</td>\n",
       "    </tr>\n",
       "  </tbody>\n",
       "</table>\n",
       "</div>"
      ],
      "text/plain": [
       "     village collection origin  fed parity species.mol   oocyst  spz  \\\n",
       "1885  buvuma      spray     MH  yes    NaN          NaN       1    0   \n",
       "1886  buvuma      spray     MH  yes    NaN          NaN       0    1   \n",
       "1963  buvuma      spray     MH  yes    NaN          NaN       0    1   \n",
       "1973  buvuma      spray     MH  yes    NaN          NaN       0    0   \n",
       "2751  buvuma      spray     MH  yes    NaN          NaN       0    0   \n",
       "\n",
       "       infection  infection1 choice RS_tech spz_tech  \n",
       "1885      oocyst      oocyst  other   ELISA    ELISA  \n",
       "1886         spz         spz      H   ELISA    ELISA  \n",
       "1963         spz         spz  other   ELISA    ELISA  \n",
       "1973  uninfected  uninfected      H   ELISA    ELISA  \n",
       "2751  uninfected  uninfected  other   ELISA    ELISA  "
      ]
     },
     "execution_count": 531,
     "metadata": {},
     "output_type": "execute_result"
    }
   ],
   "source": [
    "data.tail()"
   ]
  },
  {
   "cell_type": "code",
   "execution_count": 532,
   "metadata": {},
   "outputs": [
    {
     "data": {
      "text/plain": [
       "Index(['village', 'collection', 'origin', 'fed', 'parity', 'species.mol ',\n",
       "       'oocyst', 'spz', 'infection', 'infection1', 'choice', 'RS_tech',\n",
       "       'spz_tech'],\n",
       "      dtype='object')"
      ]
     },
     "execution_count": 532,
     "metadata": {},
     "output_type": "execute_result"
    }
   ],
   "source": [
    "#check the decoration\n",
    "data.columns"
   ]
  },
  {
   "cell_type": "code",
   "execution_count": 533,
   "metadata": {},
   "outputs": [
    {
     "data": {
      "text/plain": [
       "Index(['village', 'collection', 'origin', 'fed', 'parity', 'species', 'oocyst',\n",
       "       'spz', 'infection', 'infection1', 'choice', 'RS_tech', 'spz_tech'],\n",
       "      dtype='object')"
      ]
     },
     "execution_count": 533,
     "metadata": {},
     "output_type": "execute_result"
    }
   ],
   "source": [
    "# Rename the species.mol column to prevent errors\n",
    "mapping = {data.columns[0]:'village', data.columns[1]: 'collection', data.columns[2]:'origin',  data.columns[3]:'fed', data.columns[4]: 'parity',data.columns[5]:'species', data.columns[6]: 'oocyst',data.columns[7]:'spz', data.columns[8]: 'infection',data.columns[9]:'infection1', data.columns[10]: 'choice', data.columns[11]: 'RS_tech',  data.columns[12]: 'spz_tech'}\n",
    "data = data.rename(columns=mapping)\n",
    "data.columns"
   ]
  },
  {
   "attachments": {},
   "cell_type": "markdown",
   "metadata": {},
   "source": [
    "## Data Examination & Exploration"
   ]
  },
  {
   "cell_type": "code",
   "execution_count": 534,
   "metadata": {},
   "outputs": [
    {
     "name": "stdout",
     "output_type": "stream",
     "text": [
      "<class 'pandas.core.frame.DataFrame'>\n",
      "Int64Index: 262 entries, 0 to 2751\n",
      "Data columns (total 13 columns):\n",
      " #   Column      Non-Null Count  Dtype \n",
      "---  ------      --------------  ----- \n",
      " 0   village     262 non-null    object\n",
      " 1   collection  262 non-null    object\n",
      " 2   origin      262 non-null    object\n",
      " 3   fed         262 non-null    object\n",
      " 4   parity      106 non-null    object\n",
      " 5   species     172 non-null    object\n",
      " 6   oocyst      262 non-null    int64 \n",
      " 7   spz         262 non-null    int64 \n",
      " 8   infection   262 non-null    object\n",
      " 9   infection1  262 non-null    object\n",
      " 10  choice      262 non-null    object\n",
      " 11  RS_tech     262 non-null    object\n",
      " 12  spz_tech    262 non-null    object\n",
      "dtypes: int64(2), object(11)\n",
      "memory usage: 28.7+ KB\n"
     ]
    }
   ],
   "source": [
    "# Data information\n",
    "# Data types of the columns\n",
    "data.info()"
   ]
  },
  {
   "cell_type": "code",
   "execution_count": 535,
   "metadata": {},
   "outputs": [
    {
     "data": {
      "text/html": [
       "<div>\n",
       "<style scoped>\n",
       "    .dataframe tbody tr th:only-of-type {\n",
       "        vertical-align: middle;\n",
       "    }\n",
       "\n",
       "    .dataframe tbody tr th {\n",
       "        vertical-align: top;\n",
       "    }\n",
       "\n",
       "    .dataframe thead th {\n",
       "        text-align: right;\n",
       "    }\n",
       "</style>\n",
       "<table border=\"1\" class=\"dataframe\">\n",
       "  <thead>\n",
       "    <tr style=\"text-align: right;\">\n",
       "      <th></th>\n",
       "      <th>oocyst</th>\n",
       "      <th>spz</th>\n",
       "    </tr>\n",
       "  </thead>\n",
       "  <tbody>\n",
       "    <tr>\n",
       "      <th>count</th>\n",
       "      <td>262.000000</td>\n",
       "      <td>262.000000</td>\n",
       "    </tr>\n",
       "    <tr>\n",
       "      <th>mean</th>\n",
       "      <td>3.248092</td>\n",
       "      <td>0.225191</td>\n",
       "    </tr>\n",
       "    <tr>\n",
       "      <th>std</th>\n",
       "      <td>10.535267</td>\n",
       "      <td>0.418507</td>\n",
       "    </tr>\n",
       "    <tr>\n",
       "      <th>min</th>\n",
       "      <td>0.000000</td>\n",
       "      <td>0.000000</td>\n",
       "    </tr>\n",
       "    <tr>\n",
       "      <th>25%</th>\n",
       "      <td>0.000000</td>\n",
       "      <td>0.000000</td>\n",
       "    </tr>\n",
       "    <tr>\n",
       "      <th>50%</th>\n",
       "      <td>0.000000</td>\n",
       "      <td>0.000000</td>\n",
       "    </tr>\n",
       "    <tr>\n",
       "      <th>75%</th>\n",
       "      <td>1.000000</td>\n",
       "      <td>0.000000</td>\n",
       "    </tr>\n",
       "    <tr>\n",
       "      <th>max</th>\n",
       "      <td>78.000000</td>\n",
       "      <td>1.000000</td>\n",
       "    </tr>\n",
       "  </tbody>\n",
       "</table>\n",
       "</div>"
      ],
      "text/plain": [
       "           oocyst         spz\n",
       "count  262.000000  262.000000\n",
       "mean     3.248092    0.225191\n",
       "std     10.535267    0.418507\n",
       "min      0.000000    0.000000\n",
       "25%      0.000000    0.000000\n",
       "50%      0.000000    0.000000\n",
       "75%      1.000000    0.000000\n",
       "max     78.000000    1.000000"
      ]
     },
     "execution_count": 535,
     "metadata": {},
     "output_type": "execute_result"
    }
   ],
   "source": [
    "# Basic data statistics\n",
    "data.describe()"
   ]
  },
  {
   "cell_type": "code",
   "execution_count": 536,
   "metadata": {},
   "outputs": [
    {
     "data": {
      "text/html": [
       "<div>\n",
       "<style scoped>\n",
       "    .dataframe tbody tr th:only-of-type {\n",
       "        vertical-align: middle;\n",
       "    }\n",
       "\n",
       "    .dataframe tbody tr th {\n",
       "        vertical-align: top;\n",
       "    }\n",
       "\n",
       "    .dataframe thead th {\n",
       "        text-align: right;\n",
       "    }\n",
       "</style>\n",
       "<table border=\"1\" class=\"dataframe\">\n",
       "  <thead>\n",
       "    <tr style=\"text-align: right;\">\n",
       "      <th></th>\n",
       "      <th>village</th>\n",
       "      <th>collection</th>\n",
       "      <th>origin</th>\n",
       "      <th>fed</th>\n",
       "      <th>parity</th>\n",
       "      <th>species</th>\n",
       "      <th>infection</th>\n",
       "      <th>infection1</th>\n",
       "      <th>choice</th>\n",
       "      <th>RS_tech</th>\n",
       "      <th>spz_tech</th>\n",
       "    </tr>\n",
       "  </thead>\n",
       "  <tbody>\n",
       "    <tr>\n",
       "      <th>count</th>\n",
       "      <td>262</td>\n",
       "      <td>262</td>\n",
       "      <td>262</td>\n",
       "      <td>262</td>\n",
       "      <td>106</td>\n",
       "      <td>172</td>\n",
       "      <td>262</td>\n",
       "      <td>262</td>\n",
       "      <td>262</td>\n",
       "      <td>262</td>\n",
       "      <td>262</td>\n",
       "    </tr>\n",
       "    <tr>\n",
       "      <th>unique</th>\n",
       "      <td>3</td>\n",
       "      <td>3</td>\n",
       "      <td>5</td>\n",
       "      <td>2</td>\n",
       "      <td>2</td>\n",
       "      <td>3</td>\n",
       "      <td>3</td>\n",
       "      <td>4</td>\n",
       "      <td>2</td>\n",
       "      <td>2</td>\n",
       "      <td>2</td>\n",
       "    </tr>\n",
       "    <tr>\n",
       "      <th>top</th>\n",
       "      <td>bukomansimbi</td>\n",
       "      <td>spray</td>\n",
       "      <td>MH</td>\n",
       "      <td>yes</td>\n",
       "      <td>P</td>\n",
       "      <td>c</td>\n",
       "      <td>uninfected</td>\n",
       "      <td>uninfected</td>\n",
       "      <td>H</td>\n",
       "      <td>ELISA</td>\n",
       "      <td>qpcr</td>\n",
       "    </tr>\n",
       "    <tr>\n",
       "      <th>freq</th>\n",
       "      <td>139</td>\n",
       "      <td>185</td>\n",
       "      <td>98</td>\n",
       "      <td>221</td>\n",
       "      <td>74</td>\n",
       "      <td>96</td>\n",
       "      <td>124</td>\n",
       "      <td>124</td>\n",
       "      <td>140</td>\n",
       "      <td>170</td>\n",
       "      <td>231</td>\n",
       "    </tr>\n",
       "  </tbody>\n",
       "</table>\n",
       "</div>"
      ],
      "text/plain": [
       "             village collection origin  fed parity species   infection  \\\n",
       "count            262        262    262  262    106     172         262   \n",
       "unique             3          3      5    2      2       3           3   \n",
       "top     bukomansimbi      spray     MH  yes      P       c  uninfected   \n",
       "freq             139        185     98  221     74      96         124   \n",
       "\n",
       "        infection1 choice RS_tech spz_tech  \n",
       "count          262    262     262      262  \n",
       "unique           4      2       2        2  \n",
       "top     uninfected      H   ELISA     qpcr  \n",
       "freq           124    140     170      231  "
      ]
     },
     "execution_count": 536,
     "metadata": {},
     "output_type": "execute_result"
    }
   ],
   "source": [
    "# Data statistics for object columns (Text columns)\n",
    "data.describe(include=object)"
   ]
  },
  {
   "attachments": {},
   "cell_type": "markdown",
   "metadata": {},
   "source": [
    "## Data Cleaning"
   ]
  },
  {
   "cell_type": "code",
   "execution_count": 537,
   "metadata": {},
   "outputs": [
    {
     "data": {
      "text/plain": [
       "<Axes: >"
      ]
     },
     "execution_count": 537,
     "metadata": {},
     "output_type": "execute_result"
    },
    {
     "data": {
      "image/png": "[encoded data removed]",
      "text/plain": [
       "<Figure size 2500x1000 with 2 Axes>"
      ]
     },
     "metadata": {},
     "output_type": "display_data"
    }
   ],
   "source": [
    "msno.matrix(data)"
   ]
  },
  {
   "cell_type": "code",
   "execution_count": 538,
   "metadata": {},
   "outputs": [
    {
     "data": {
      "text/plain": [
       "village         0\n",
       "collection      0\n",
       "origin          0\n",
       "fed             0\n",
       "parity        156\n",
       "species        90\n",
       "oocyst          0\n",
       "spz             0\n",
       "infection       0\n",
       "infection1      0\n",
       "choice          0\n",
       "RS_tech         0\n",
       "spz_tech        0\n",
       "dtype: int64"
      ]
     },
     "execution_count": 538,
     "metadata": {},
     "output_type": "execute_result"
    }
   ],
   "source": [
    "# Check for missing values\n",
    "data.isnull().sum()"
   ]
  },
  {
   "cell_type": "code",
   "execution_count": 539,
   "metadata": {},
   "outputs": [],
   "source": [
    "# Replace null values with the mode in the species.mol column\n",
    "data['species'].fillna(data['species'].mode()[0], inplace=True)"
   ]
  },
  {
   "cell_type": "code",
   "execution_count": 540,
   "metadata": {},
   "outputs": [],
   "source": [
    "# Replace null values with the mode in the parity column\n",
    "data['parity'].fillna(data['parity'].mode()[0], inplace=True)"
   ]
  },
  {
   "cell_type": "code",
   "execution_count": 541,
   "metadata": {},
   "outputs": [
    {
     "data": {
      "text/plain": [
       "village       0\n",
       "collection    0\n",
       "origin        0\n",
       "fed           0\n",
       "parity        0\n",
       "species       0\n",
       "oocyst        0\n",
       "spz           0\n",
       "infection     0\n",
       "infection1    0\n",
       "choice        0\n",
       "RS_tech       0\n",
       "spz_tech      0\n",
       "dtype: int64"
      ]
     },
     "execution_count": 541,
     "metadata": {},
     "output_type": "execute_result"
    }
   ],
   "source": [
    "# Confirming nulls have been replaced\n",
    "data.isnull().sum()"
   ]
  },
  {
   "attachments": {},
   "cell_type": "markdown",
   "metadata": {},
   "source": [
    "## Data Visualization"
   ]
  },
  {
   "cell_type": "code",
   "execution_count": 542,
   "metadata": {},
   "outputs": [],
   "source": [
    "# Separate features and target\n",
    "X = data.drop(columns=['infection'])\n",
    "y = data['infection']"
   ]
  },
  {
   "cell_type": "code",
   "execution_count": 543,
   "metadata": {},
   "outputs": [
    {
     "data": {
      "text/plain": [
       "<Axes: xlabel='infection', ylabel='count'>"
      ]
     },
     "execution_count": 543,
     "metadata": {},
     "output_type": "execute_result"
    },
    {
     "data": {
      "image/png": "[encoded data removed]",
      "text/plain": [
       "<Figure size 640x480 with 1 Axes>"
      ]
     },
     "metadata": {},
     "output_type": "display_data"
    }
   ],
   "source": [
    "# Plot infection distribution\n",
    "sns.countplot(x='infection', data=data)"
   ]
  }
 ],
 "metadata": {
  "kernelspec": {
   "display_name": "Python 3",
   "language": "python",
   "name": "python3"
  },
  "language_info": {
   "codemirror_mode": {
    "name": "ipython",
    "version": 3
   },
   "file_extension": ".py",
   "mimetype": "text/x-python",
   "name": "python",
   "nbconvert_exporter": "python",
   "pygments_lexer": "ipython3",
   "version": "3.10.2"
  },
  "orig_nbformat": 4
 },
 "nbformat": 4,
 "nbformat_minor": 2
}
